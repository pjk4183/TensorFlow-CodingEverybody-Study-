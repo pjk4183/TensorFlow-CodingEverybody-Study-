{
 "cells": [
  {
   "cell_type": "code",
   "execution_count": 13,
   "metadata": {},
   "outputs": [],
   "source": [
    "#TensorFlow - Classification\n",
    "\n",
    "import pandas as pd\n",
    "import tensorflow as tf"
   ]
  },
  {
   "cell_type": "code",
   "execution_count": 11,
   "metadata": {},
   "outputs": [
    {
     "name": "stdout",
     "output_type": "stream",
     "text": [
      "(150, 4) (150, 3)\n"
     ]
    }
   ],
   "source": [
    "#데이터 준비\n",
    "Iris = pd.read_csv('iris.csv')\n",
    "Iris = pd.get_dummies(Iris)\n",
    "\n",
    "Iris.head()\n",
    "\n",
    "독립 = Iris[['꽃잎길이', '꽃잎폭', '꽃받침길이', '꽃받침폭']]\n",
    "종속 = Iris[['품종_setosa', '품종_versicolor', '품종_virginica']]\n",
    "\n",
    "print(독립.shape, 종속.shape)\n"
   ]
  },
  {
   "cell_type": "code",
   "execution_count": 14,
   "metadata": {},
   "outputs": [],
   "source": [
    "#모델의 구조 생성\n",
    "\n",
    "X = tf.keras.layers.Input(shape=[4])\n",
    "Y = tf.keras.layers.Dense(3, activation='softmax')(X)\n",
    "model = tf.keras.models.Model(X,Y)\n",
    "model.compile(loss='categorical_crossentropy')"
   ]
  },
  {
   "cell_type": "code",
   "execution_count": 16,
   "metadata": {},
   "outputs": [
    {
     "name": "stdout",
     "output_type": "stream",
     "text": [
      "Epoch 1/10\n",
      "5/5 [==============================] - 0s 3ms/step - loss: 0.0988\n",
      "Epoch 2/10\n",
      "5/5 [==============================] - 0s 3ms/step - loss: 0.0992\n",
      "Epoch 3/10\n",
      "5/5 [==============================] - 0s 4ms/step - loss: 0.0990\n",
      "Epoch 4/10\n",
      "5/5 [==============================] - 0s 3ms/step - loss: 0.0989\n",
      "Epoch 5/10\n",
      "5/5 [==============================] - 0s 4ms/step - loss: 0.0991\n",
      "Epoch 6/10\n",
      "5/5 [==============================] - 0s 4ms/step - loss: 0.0991\n",
      "Epoch 7/10\n",
      "5/5 [==============================] - 0s 5ms/step - loss: 0.0988\n",
      "Epoch 8/10\n",
      "5/5 [==============================] - 0s 4ms/step - loss: 0.0988\n",
      "Epoch 9/10\n",
      "5/5 [==============================] - 0s 4ms/step - loss: 0.0988\n",
      "Epoch 10/10\n",
      "5/5 [==============================] - 0s 5ms/step - loss: 0.0988\n"
     ]
    },
    {
     "data": {
      "text/plain": [
       "<tensorflow.python.keras.callbacks.History at 0x12f5ab6d2b0>"
      ]
     },
     "execution_count": 16,
     "metadata": {},
     "output_type": "execute_result"
    }
   ],
   "source": [
    "#데이터로 모델 학습(FIT)\n",
    "model.fit(독립, 종속, epochs=1000, verbose=0)\n",
    "model.fit(독립, 종속, epochs=10)\n"
   ]
  },
  {
   "cell_type": "code",
   "execution_count": 18,
   "metadata": {},
   "outputs": [
    {
     "name": "stdout",
     "output_type": "stream",
     "text": [
      "Predictions:  [[9.9996650e-01 3.3460612e-05 8.9513241e-12]\n",
      " [9.9977845e-01 2.2159949e-04 2.2759500e-10]\n",
      " [9.9991000e-01 9.0010042e-05 6.4145814e-11]\n",
      " [9.9959582e-01 4.0423809e-04 6.3960781e-10]\n",
      " [9.9997234e-01 2.7679891e-05 6.8923287e-12]]\n"
     ]
    }
   ],
   "source": [
    "#모델 이용\n",
    "print(\"Predictions: \", model.predict(독립[0:5]))"
   ]
  },
  {
   "cell_type": "code",
   "execution_count": null,
   "metadata": {},
   "outputs": [],
   "source": []
  }
 ],
 "metadata": {
  "kernelspec": {
   "display_name": "Python 3",
   "language": "python",
   "name": "python3"
  },
  "language_info": {
   "codemirror_mode": {
    "name": "ipython",
    "version": 3
   },
   "file_extension": ".py",
   "mimetype": "text/x-python",
   "name": "python",
   "nbconvert_exporter": "python",
   "pygments_lexer": "ipython3",
   "version": "3.8.3"
  }
 },
 "nbformat": 4,
 "nbformat_minor": 4
}
